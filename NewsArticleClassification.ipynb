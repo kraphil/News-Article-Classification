{
  "nbformat": 4,
  "nbformat_minor": 0,
  "metadata": {
    "colab": {
      "name": "NewsArticleClassification.ipynb",
      "provenance": []
    },
    "kernelspec": {
      "name": "python3",
      "display_name": "Python 3"
    },
    "language_info": {
      "name": "python"
    }
  },
  "cells": [
    {
      "cell_type": "markdown",
      "source": [
        "**Source Code: Understanding News Articles**"
      ],
      "metadata": {
        "id": "sRZVqcFejX_p"
      }
    },
    {
      "cell_type": "markdown",
      "source": [
        "bibliotheken werden im laufe der entwicklung eingebunden"
      ],
      "metadata": {
        "id": "5lT1hvZDjMwZ"
      }
    },
    {
      "cell_type": "code",
      "source": [
        "import pandas as pd\n"
      ],
      "metadata": {
        "id": "cFMlNLl38hHL"
      },
      "execution_count": null,
      "outputs": []
    },
    {
      "cell_type": "markdown",
      "source": [
        "einlesen der news.csv"
      ],
      "metadata": {
        "id": "639taCOhjfnl"
      }
    },
    {
      "cell_type": "code",
      "execution_count": null,
      "metadata": {
        "colab": {
          "base_uri": "https://localhost:8080/",
          "height": 424
        },
        "id": "QaK7Hb4e8ZTI",
        "outputId": "68cd9aab-41d2-4130-d92d-aac421226848"
      },
      "outputs": [
        {
          "output_type": "execute_result",
          "data": {
            "text/plain": [
              "      Unnamed: 0                        date      category  \\\n",
              "0              0  2016-01-04 05:30:00.000000    Wirtschaft   \n",
              "1              1  2015-07-02 07:08:55.000000    Wirtschaft   \n",
              "2              2  2016-05-07 11:00:00.000000           Web   \n",
              "3              3  2016-05-23 09:41:27.000000           Web   \n",
              "4              4  2015-06-05 12:55:37.000000    Wirtschaft   \n",
              "...          ...                         ...           ...   \n",
              "5482        5482  2015-12-15 15:49:23.000000  Wissenschaft   \n",
              "5483        5483  2016-02-17 22:59:03.000000         Sport   \n",
              "5484        5484  2015-10-29 11:18:47.000000           Web   \n",
              "5485        5485  2016-03-15 14:50:24.000000         Sport   \n",
              "5486        5486  2015-10-15 10:10:25.000000    Wirtschaft   \n",
              "\n",
              "                                                   text  \n",
              "0     Der Kampf gegen die Steuerflucht steht 2016 im...  \n",
              "1     Der Volltext dieses auf Agenturmeldungen basie...  \n",
              "2     Das Experiment beginnt Freitagabend, am Wochen...  \n",
              "3     \"Was waren die schlimmsten Erlebnisse, die ihr...  \n",
              "4     Wien – Seitdem die Internationale Agentur für ...  \n",
              "...                                                 ...  \n",
              "5482  Baikonur/London – Am frühen Dienstagabend erre...  \n",
              "5483  Rio de Janeiro – Das Achtelfinal-Match von Dom...  \n",
              "5484  Bezahlsender Sky bringt Apps für seine hochwer...  \n",
              "5485  Neuchatel – Nach einer neuen Studie im Auftrag...  \n",
              "5486  \"Ökologie wird zur Ökonomie des 21. Jahrhunder...  \n",
              "\n",
              "[5487 rows x 4 columns]"
            ],
            "text/html": [
              "\n",
              "  <div id=\"df-78279bea-1059-40e1-8c51-9eb2fec7c8f5\">\n",
              "    <div class=\"colab-df-container\">\n",
              "      <div>\n",
              "<style scoped>\n",
              "    .dataframe tbody tr th:only-of-type {\n",
              "        vertical-align: middle;\n",
              "    }\n",
              "\n",
              "    .dataframe tbody tr th {\n",
              "        vertical-align: top;\n",
              "    }\n",
              "\n",
              "    .dataframe thead th {\n",
              "        text-align: right;\n",
              "    }\n",
              "</style>\n",
              "<table border=\"1\" class=\"dataframe\">\n",
              "  <thead>\n",
              "    <tr style=\"text-align: right;\">\n",
              "      <th></th>\n",
              "      <th>Unnamed: 0</th>\n",
              "      <th>date</th>\n",
              "      <th>category</th>\n",
              "      <th>text</th>\n",
              "    </tr>\n",
              "  </thead>\n",
              "  <tbody>\n",
              "    <tr>\n",
              "      <th>0</th>\n",
              "      <td>0</td>\n",
              "      <td>2016-01-04 05:30:00.000000</td>\n",
              "      <td>Wirtschaft</td>\n",
              "      <td>Der Kampf gegen die Steuerflucht steht 2016 im...</td>\n",
              "    </tr>\n",
              "    <tr>\n",
              "      <th>1</th>\n",
              "      <td>1</td>\n",
              "      <td>2015-07-02 07:08:55.000000</td>\n",
              "      <td>Wirtschaft</td>\n",
              "      <td>Der Volltext dieses auf Agenturmeldungen basie...</td>\n",
              "    </tr>\n",
              "    <tr>\n",
              "      <th>2</th>\n",
              "      <td>2</td>\n",
              "      <td>2016-05-07 11:00:00.000000</td>\n",
              "      <td>Web</td>\n",
              "      <td>Das Experiment beginnt Freitagabend, am Wochen...</td>\n",
              "    </tr>\n",
              "    <tr>\n",
              "      <th>3</th>\n",
              "      <td>3</td>\n",
              "      <td>2016-05-23 09:41:27.000000</td>\n",
              "      <td>Web</td>\n",
              "      <td>\"Was waren die schlimmsten Erlebnisse, die ihr...</td>\n",
              "    </tr>\n",
              "    <tr>\n",
              "      <th>4</th>\n",
              "      <td>4</td>\n",
              "      <td>2015-06-05 12:55:37.000000</td>\n",
              "      <td>Wirtschaft</td>\n",
              "      <td>Wien – Seitdem die Internationale Agentur für ...</td>\n",
              "    </tr>\n",
              "    <tr>\n",
              "      <th>...</th>\n",
              "      <td>...</td>\n",
              "      <td>...</td>\n",
              "      <td>...</td>\n",
              "      <td>...</td>\n",
              "    </tr>\n",
              "    <tr>\n",
              "      <th>5482</th>\n",
              "      <td>5482</td>\n",
              "      <td>2015-12-15 15:49:23.000000</td>\n",
              "      <td>Wissenschaft</td>\n",
              "      <td>Baikonur/London – Am frühen Dienstagabend erre...</td>\n",
              "    </tr>\n",
              "    <tr>\n",
              "      <th>5483</th>\n",
              "      <td>5483</td>\n",
              "      <td>2016-02-17 22:59:03.000000</td>\n",
              "      <td>Sport</td>\n",
              "      <td>Rio de Janeiro – Das Achtelfinal-Match von Dom...</td>\n",
              "    </tr>\n",
              "    <tr>\n",
              "      <th>5484</th>\n",
              "      <td>5484</td>\n",
              "      <td>2015-10-29 11:18:47.000000</td>\n",
              "      <td>Web</td>\n",
              "      <td>Bezahlsender Sky bringt Apps für seine hochwer...</td>\n",
              "    </tr>\n",
              "    <tr>\n",
              "      <th>5485</th>\n",
              "      <td>5485</td>\n",
              "      <td>2016-03-15 14:50:24.000000</td>\n",
              "      <td>Sport</td>\n",
              "      <td>Neuchatel – Nach einer neuen Studie im Auftrag...</td>\n",
              "    </tr>\n",
              "    <tr>\n",
              "      <th>5486</th>\n",
              "      <td>5486</td>\n",
              "      <td>2015-10-15 10:10:25.000000</td>\n",
              "      <td>Wirtschaft</td>\n",
              "      <td>\"Ökologie wird zur Ökonomie des 21. Jahrhunder...</td>\n",
              "    </tr>\n",
              "  </tbody>\n",
              "</table>\n",
              "<p>5487 rows × 4 columns</p>\n",
              "</div>\n",
              "      <button class=\"colab-df-convert\" onclick=\"convertToInteractive('df-78279bea-1059-40e1-8c51-9eb2fec7c8f5')\"\n",
              "              title=\"Convert this dataframe to an interactive table.\"\n",
              "              style=\"display:none;\">\n",
              "        \n",
              "  <svg xmlns=\"http://www.w3.org/2000/svg\" height=\"24px\"viewBox=\"0 0 24 24\"\n",
              "       width=\"24px\">\n",
              "    <path d=\"M0 0h24v24H0V0z\" fill=\"none\"/>\n",
              "    <path d=\"M18.56 5.44l.94 2.06.94-2.06 2.06-.94-2.06-.94-.94-2.06-.94 2.06-2.06.94zm-11 1L8.5 8.5l.94-2.06 2.06-.94-2.06-.94L8.5 2.5l-.94 2.06-2.06.94zm10 10l.94 2.06.94-2.06 2.06-.94-2.06-.94-.94-2.06-.94 2.06-2.06.94z\"/><path d=\"M17.41 7.96l-1.37-1.37c-.4-.4-.92-.59-1.43-.59-.52 0-1.04.2-1.43.59L10.3 9.45l-7.72 7.72c-.78.78-.78 2.05 0 2.83L4 21.41c.39.39.9.59 1.41.59.51 0 1.02-.2 1.41-.59l7.78-7.78 2.81-2.81c.8-.78.8-2.07 0-2.86zM5.41 20L4 18.59l7.72-7.72 1.47 1.35L5.41 20z\"/>\n",
              "  </svg>\n",
              "      </button>\n",
              "      \n",
              "  <style>\n",
              "    .colab-df-container {\n",
              "      display:flex;\n",
              "      flex-wrap:wrap;\n",
              "      gap: 12px;\n",
              "    }\n",
              "\n",
              "    .colab-df-convert {\n",
              "      background-color: #E8F0FE;\n",
              "      border: none;\n",
              "      border-radius: 50%;\n",
              "      cursor: pointer;\n",
              "      display: none;\n",
              "      fill: #1967D2;\n",
              "      height: 32px;\n",
              "      padding: 0 0 0 0;\n",
              "      width: 32px;\n",
              "    }\n",
              "\n",
              "    .colab-df-convert:hover {\n",
              "      background-color: #E2EBFA;\n",
              "      box-shadow: 0px 1px 2px rgba(60, 64, 67, 0.3), 0px 1px 3px 1px rgba(60, 64, 67, 0.15);\n",
              "      fill: #174EA6;\n",
              "    }\n",
              "\n",
              "    [theme=dark] .colab-df-convert {\n",
              "      background-color: #3B4455;\n",
              "      fill: #D2E3FC;\n",
              "    }\n",
              "\n",
              "    [theme=dark] .colab-df-convert:hover {\n",
              "      background-color: #434B5C;\n",
              "      box-shadow: 0px 1px 3px 1px rgba(0, 0, 0, 0.15);\n",
              "      filter: drop-shadow(0px 1px 2px rgba(0, 0, 0, 0.3));\n",
              "      fill: #FFFFFF;\n",
              "    }\n",
              "  </style>\n",
              "\n",
              "      <script>\n",
              "        const buttonEl =\n",
              "          document.querySelector('#df-78279bea-1059-40e1-8c51-9eb2fec7c8f5 button.colab-df-convert');\n",
              "        buttonEl.style.display =\n",
              "          google.colab.kernel.accessAllowed ? 'block' : 'none';\n",
              "\n",
              "        async function convertToInteractive(key) {\n",
              "          const element = document.querySelector('#df-78279bea-1059-40e1-8c51-9eb2fec7c8f5');\n",
              "          const dataTable =\n",
              "            await google.colab.kernel.invokeFunction('convertToInteractive',\n",
              "                                                     [key], {});\n",
              "          if (!dataTable) return;\n",
              "\n",
              "          const docLinkHtml = 'Like what you see? Visit the ' +\n",
              "            '<a target=\"_blank\" href=https://colab.research.google.com/notebooks/data_table.ipynb>data table notebook</a>'\n",
              "            + ' to learn more about interactive tables.';\n",
              "          element.innerHTML = '';\n",
              "          dataTable['output_type'] = 'display_data';\n",
              "          await google.colab.output.renderOutput(dataTable, element);\n",
              "          const docLink = document.createElement('div');\n",
              "          docLink.innerHTML = docLinkHtml;\n",
              "          element.appendChild(docLink);\n",
              "        }\n",
              "      </script>\n",
              "    </div>\n",
              "  </div>\n",
              "  "
            ]
          },
          "metadata": {},
          "execution_count": 2
        }
      ],
      "source": [
        "dataframe = pd.read_csv('news.csv')\n",
        "dataframe"
      ]
    },
    {
      "cell_type": "markdown",
      "source": [
        "prüfen, ob null werte in den daten enthalten sind."
      ],
      "metadata": {
        "id": "gVoO4hBBjis4"
      }
    },
    {
      "cell_type": "code",
      "source": [
        "dataframe.info()"
      ],
      "metadata": {
        "colab": {
          "base_uri": "https://localhost:8080/"
        },
        "id": "pIoRHUwvJ8G4",
        "outputId": "fec4f5eb-ca59-4f80-81af-b18df8a60ec7"
      },
      "execution_count": null,
      "outputs": [
        {
          "output_type": "stream",
          "name": "stdout",
          "text": [
            "<class 'pandas.core.frame.DataFrame'>\n",
            "RangeIndex: 5487 entries, 0 to 5486\n",
            "Data columns (total 4 columns):\n",
            " #   Column      Non-Null Count  Dtype \n",
            "---  ------      --------------  ----- \n",
            " 0   Unnamed: 0  5487 non-null   int64 \n",
            " 1   date        5487 non-null   object\n",
            " 2   category    5487 non-null   object\n",
            " 3   text        5481 non-null   object\n",
            "dtypes: int64(1), object(3)\n",
            "memory usage: 171.6+ KB\n"
          ]
        }
      ]
    },
    {
      "cell_type": "markdown",
      "source": [
        "die folgenden spalten habe ich aus der tabelle entfernt, da sie für mich keine relevanz hatten."
      ],
      "metadata": {
        "id": "L2wc32HVjtGp"
      }
    },
    {
      "cell_type": "code",
      "source": [
        "dataframe = dataframe.drop('Unnamed: 0', 1)\n",
        "dataframe = dataframe.drop('date', 1)"
      ],
      "metadata": {
        "colab": {
          "base_uri": "https://localhost:8080/"
        },
        "id": "DJjQqqRyJZj0",
        "outputId": "42162089-8a96-412e-9053-19f3b7841a0f"
      },
      "execution_count": null,
      "outputs": [
        {
          "output_type": "stream",
          "name": "stderr",
          "text": [
            "/usr/local/lib/python3.7/dist-packages/ipykernel_launcher.py:1: FutureWarning: In a future version of pandas all arguments of DataFrame.drop except for the argument 'labels' will be keyword-only\n",
            "  \"\"\"Entry point for launching an IPython kernel.\n",
            "/usr/local/lib/python3.7/dist-packages/ipykernel_launcher.py:2: FutureWarning: In a future version of pandas all arguments of DataFrame.drop except for the argument 'labels' will be keyword-only\n",
            "  \n"
          ]
        }
      ]
    },
    {
      "cell_type": "markdown",
      "source": [
        "ausgabe über art und anzahl der kategorien"
      ],
      "metadata": {
        "id": "8qsL0WvCj2Ay"
      }
    },
    {
      "cell_type": "code",
      "source": [
        "dataframe['category'].value_counts()"
      ],
      "metadata": {
        "colab": {
          "base_uri": "https://localhost:8080/"
        },
        "id": "rybJOyEOIvrk",
        "outputId": "e623e609-74ed-489f-fb90-020f9efba81f"
      },
      "execution_count": null,
      "outputs": [
        {
          "output_type": "execute_result",
          "data": {
            "text/plain": [
              "Web             1616\n",
              "Wirtschaft      1336\n",
              "Sport           1190\n",
              "Wissenschaft     567\n",
              "Kultur           512\n",
              "Gesundheit       266\n",
              "Name: category, dtype: int64"
            ]
          },
          "metadata": {},
          "execution_count": 5
        }
      ]
    },
    {
      "cell_type": "markdown",
      "source": [
        "kategorien in id's umwandeln für die weitere verarbeitung"
      ],
      "metadata": {
        "id": "usrqRLspj817"
      }
    },
    {
      "cell_type": "code",
      "source": [
        "target_category = dataframe['category'].unique()\n",
        "dataframe['categoryId'] = dataframe['category'].factorize()[0]"
      ],
      "metadata": {
        "id": "Xf6gVflmKMAL"
      },
      "execution_count": null,
      "outputs": []
    },
    {
      "cell_type": "code",
      "source": [
        "dataframe"
      ],
      "metadata": {
        "colab": {
          "base_uri": "https://localhost:8080/",
          "height": 424
        },
        "id": "JSYQVEWoJYyA",
        "outputId": "c314ced0-eef8-46ee-aef9-425a2d7fbf99"
      },
      "execution_count": null,
      "outputs": [
        {
          "output_type": "execute_result",
          "data": {
            "text/plain": [
              "          category                                               text  \\\n",
              "0       Wirtschaft  Der Kampf gegen die Steuerflucht steht 2016 im...   \n",
              "1       Wirtschaft  Der Volltext dieses auf Agenturmeldungen basie...   \n",
              "2              Web  Das Experiment beginnt Freitagabend, am Wochen...   \n",
              "3              Web  \"Was waren die schlimmsten Erlebnisse, die ihr...   \n",
              "4       Wirtschaft  Wien – Seitdem die Internationale Agentur für ...   \n",
              "...            ...                                                ...   \n",
              "5482  Wissenschaft  Baikonur/London – Am frühen Dienstagabend erre...   \n",
              "5483         Sport  Rio de Janeiro – Das Achtelfinal-Match von Dom...   \n",
              "5484           Web  Bezahlsender Sky bringt Apps für seine hochwer...   \n",
              "5485         Sport  Neuchatel – Nach einer neuen Studie im Auftrag...   \n",
              "5486    Wirtschaft  \"Ökologie wird zur Ökonomie des 21. Jahrhunder...   \n",
              "\n",
              "      categoryId  \n",
              "0              0  \n",
              "1              0  \n",
              "2              1  \n",
              "3              1  \n",
              "4              0  \n",
              "...          ...  \n",
              "5482           5  \n",
              "5483           4  \n",
              "5484           1  \n",
              "5485           4  \n",
              "5486           0  \n",
              "\n",
              "[5487 rows x 3 columns]"
            ],
            "text/html": [
              "\n",
              "  <div id=\"df-3db73aa0-9030-4509-9deb-0045d17ed8ee\">\n",
              "    <div class=\"colab-df-container\">\n",
              "      <div>\n",
              "<style scoped>\n",
              "    .dataframe tbody tr th:only-of-type {\n",
              "        vertical-align: middle;\n",
              "    }\n",
              "\n",
              "    .dataframe tbody tr th {\n",
              "        vertical-align: top;\n",
              "    }\n",
              "\n",
              "    .dataframe thead th {\n",
              "        text-align: right;\n",
              "    }\n",
              "</style>\n",
              "<table border=\"1\" class=\"dataframe\">\n",
              "  <thead>\n",
              "    <tr style=\"text-align: right;\">\n",
              "      <th></th>\n",
              "      <th>category</th>\n",
              "      <th>text</th>\n",
              "      <th>categoryId</th>\n",
              "    </tr>\n",
              "  </thead>\n",
              "  <tbody>\n",
              "    <tr>\n",
              "      <th>0</th>\n",
              "      <td>Wirtschaft</td>\n",
              "      <td>Der Kampf gegen die Steuerflucht steht 2016 im...</td>\n",
              "      <td>0</td>\n",
              "    </tr>\n",
              "    <tr>\n",
              "      <th>1</th>\n",
              "      <td>Wirtschaft</td>\n",
              "      <td>Der Volltext dieses auf Agenturmeldungen basie...</td>\n",
              "      <td>0</td>\n",
              "    </tr>\n",
              "    <tr>\n",
              "      <th>2</th>\n",
              "      <td>Web</td>\n",
              "      <td>Das Experiment beginnt Freitagabend, am Wochen...</td>\n",
              "      <td>1</td>\n",
              "    </tr>\n",
              "    <tr>\n",
              "      <th>3</th>\n",
              "      <td>Web</td>\n",
              "      <td>\"Was waren die schlimmsten Erlebnisse, die ihr...</td>\n",
              "      <td>1</td>\n",
              "    </tr>\n",
              "    <tr>\n",
              "      <th>4</th>\n",
              "      <td>Wirtschaft</td>\n",
              "      <td>Wien – Seitdem die Internationale Agentur für ...</td>\n",
              "      <td>0</td>\n",
              "    </tr>\n",
              "    <tr>\n",
              "      <th>...</th>\n",
              "      <td>...</td>\n",
              "      <td>...</td>\n",
              "      <td>...</td>\n",
              "    </tr>\n",
              "    <tr>\n",
              "      <th>5482</th>\n",
              "      <td>Wissenschaft</td>\n",
              "      <td>Baikonur/London – Am frühen Dienstagabend erre...</td>\n",
              "      <td>5</td>\n",
              "    </tr>\n",
              "    <tr>\n",
              "      <th>5483</th>\n",
              "      <td>Sport</td>\n",
              "      <td>Rio de Janeiro – Das Achtelfinal-Match von Dom...</td>\n",
              "      <td>4</td>\n",
              "    </tr>\n",
              "    <tr>\n",
              "      <th>5484</th>\n",
              "      <td>Web</td>\n",
              "      <td>Bezahlsender Sky bringt Apps für seine hochwer...</td>\n",
              "      <td>1</td>\n",
              "    </tr>\n",
              "    <tr>\n",
              "      <th>5485</th>\n",
              "      <td>Sport</td>\n",
              "      <td>Neuchatel – Nach einer neuen Studie im Auftrag...</td>\n",
              "      <td>4</td>\n",
              "    </tr>\n",
              "    <tr>\n",
              "      <th>5486</th>\n",
              "      <td>Wirtschaft</td>\n",
              "      <td>\"Ökologie wird zur Ökonomie des 21. Jahrhunder...</td>\n",
              "      <td>0</td>\n",
              "    </tr>\n",
              "  </tbody>\n",
              "</table>\n",
              "<p>5487 rows × 3 columns</p>\n",
              "</div>\n",
              "      <button class=\"colab-df-convert\" onclick=\"convertToInteractive('df-3db73aa0-9030-4509-9deb-0045d17ed8ee')\"\n",
              "              title=\"Convert this dataframe to an interactive table.\"\n",
              "              style=\"display:none;\">\n",
              "        \n",
              "  <svg xmlns=\"http://www.w3.org/2000/svg\" height=\"24px\"viewBox=\"0 0 24 24\"\n",
              "       width=\"24px\">\n",
              "    <path d=\"M0 0h24v24H0V0z\" fill=\"none\"/>\n",
              "    <path d=\"M18.56 5.44l.94 2.06.94-2.06 2.06-.94-2.06-.94-.94-2.06-.94 2.06-2.06.94zm-11 1L8.5 8.5l.94-2.06 2.06-.94-2.06-.94L8.5 2.5l-.94 2.06-2.06.94zm10 10l.94 2.06.94-2.06 2.06-.94-2.06-.94-.94-2.06-.94 2.06-2.06.94z\"/><path d=\"M17.41 7.96l-1.37-1.37c-.4-.4-.92-.59-1.43-.59-.52 0-1.04.2-1.43.59L10.3 9.45l-7.72 7.72c-.78.78-.78 2.05 0 2.83L4 21.41c.39.39.9.59 1.41.59.51 0 1.02-.2 1.41-.59l7.78-7.78 2.81-2.81c.8-.78.8-2.07 0-2.86zM5.41 20L4 18.59l7.72-7.72 1.47 1.35L5.41 20z\"/>\n",
              "  </svg>\n",
              "      </button>\n",
              "      \n",
              "  <style>\n",
              "    .colab-df-container {\n",
              "      display:flex;\n",
              "      flex-wrap:wrap;\n",
              "      gap: 12px;\n",
              "    }\n",
              "\n",
              "    .colab-df-convert {\n",
              "      background-color: #E8F0FE;\n",
              "      border: none;\n",
              "      border-radius: 50%;\n",
              "      cursor: pointer;\n",
              "      display: none;\n",
              "      fill: #1967D2;\n",
              "      height: 32px;\n",
              "      padding: 0 0 0 0;\n",
              "      width: 32px;\n",
              "    }\n",
              "\n",
              "    .colab-df-convert:hover {\n",
              "      background-color: #E2EBFA;\n",
              "      box-shadow: 0px 1px 2px rgba(60, 64, 67, 0.3), 0px 1px 3px 1px rgba(60, 64, 67, 0.15);\n",
              "      fill: #174EA6;\n",
              "    }\n",
              "\n",
              "    [theme=dark] .colab-df-convert {\n",
              "      background-color: #3B4455;\n",
              "      fill: #D2E3FC;\n",
              "    }\n",
              "\n",
              "    [theme=dark] .colab-df-convert:hover {\n",
              "      background-color: #434B5C;\n",
              "      box-shadow: 0px 1px 3px 1px rgba(0, 0, 0, 0.15);\n",
              "      filter: drop-shadow(0px 1px 2px rgba(0, 0, 0, 0.3));\n",
              "      fill: #FFFFFF;\n",
              "    }\n",
              "  </style>\n",
              "\n",
              "      <script>\n",
              "        const buttonEl =\n",
              "          document.querySelector('#df-3db73aa0-9030-4509-9deb-0045d17ed8ee button.colab-df-convert');\n",
              "        buttonEl.style.display =\n",
              "          google.colab.kernel.accessAllowed ? 'block' : 'none';\n",
              "\n",
              "        async function convertToInteractive(key) {\n",
              "          const element = document.querySelector('#df-3db73aa0-9030-4509-9deb-0045d17ed8ee');\n",
              "          const dataTable =\n",
              "            await google.colab.kernel.invokeFunction('convertToInteractive',\n",
              "                                                     [key], {});\n",
              "          if (!dataTable) return;\n",
              "\n",
              "          const docLinkHtml = 'Like what you see? Visit the ' +\n",
              "            '<a target=\"_blank\" href=https://colab.research.google.com/notebooks/data_table.ipynb>data table notebook</a>'\n",
              "            + ' to learn more about interactive tables.';\n",
              "          element.innerHTML = '';\n",
              "          dataTable['output_type'] = 'display_data';\n",
              "          await google.colab.output.renderOutput(dataTable, element);\n",
              "          const docLink = document.createElement('div');\n",
              "          docLink.innerHTML = docLinkHtml;\n",
              "          element.appendChild(docLink);\n",
              "        }\n",
              "      </script>\n",
              "    </div>\n",
              "  </div>\n",
              "  "
            ]
          },
          "metadata": {},
          "execution_count": 7
        }
      ]
    },
    {
      "cell_type": "code",
      "source": [
        "category = dataframe[['category', 'categoryId']].drop_duplicates().sort_values('categoryId')\n",
        "category"
      ],
      "metadata": {
        "colab": {
          "base_uri": "https://localhost:8080/",
          "height": 238
        },
        "id": "PtGsPXkmKmWw",
        "outputId": "b089de9a-fc00-4186-a7a0-8cdb68a886a6"
      },
      "execution_count": null,
      "outputs": [
        {
          "output_type": "execute_result",
          "data": {
            "text/plain": [
              "        category  categoryId\n",
              "0     Wirtschaft           0\n",
              "2            Web           1\n",
              "5         Kultur           2\n",
              "6     Gesundheit           3\n",
              "7          Sport           4\n",
              "17  Wissenschaft           5"
            ],
            "text/html": [
              "\n",
              "  <div id=\"df-8817dab5-bffb-41ae-89dc-e809d84ebac7\">\n",
              "    <div class=\"colab-df-container\">\n",
              "      <div>\n",
              "<style scoped>\n",
              "    .dataframe tbody tr th:only-of-type {\n",
              "        vertical-align: middle;\n",
              "    }\n",
              "\n",
              "    .dataframe tbody tr th {\n",
              "        vertical-align: top;\n",
              "    }\n",
              "\n",
              "    .dataframe thead th {\n",
              "        text-align: right;\n",
              "    }\n",
              "</style>\n",
              "<table border=\"1\" class=\"dataframe\">\n",
              "  <thead>\n",
              "    <tr style=\"text-align: right;\">\n",
              "      <th></th>\n",
              "      <th>category</th>\n",
              "      <th>categoryId</th>\n",
              "    </tr>\n",
              "  </thead>\n",
              "  <tbody>\n",
              "    <tr>\n",
              "      <th>0</th>\n",
              "      <td>Wirtschaft</td>\n",
              "      <td>0</td>\n",
              "    </tr>\n",
              "    <tr>\n",
              "      <th>2</th>\n",
              "      <td>Web</td>\n",
              "      <td>1</td>\n",
              "    </tr>\n",
              "    <tr>\n",
              "      <th>5</th>\n",
              "      <td>Kultur</td>\n",
              "      <td>2</td>\n",
              "    </tr>\n",
              "    <tr>\n",
              "      <th>6</th>\n",
              "      <td>Gesundheit</td>\n",
              "      <td>3</td>\n",
              "    </tr>\n",
              "    <tr>\n",
              "      <th>7</th>\n",
              "      <td>Sport</td>\n",
              "      <td>4</td>\n",
              "    </tr>\n",
              "    <tr>\n",
              "      <th>17</th>\n",
              "      <td>Wissenschaft</td>\n",
              "      <td>5</td>\n",
              "    </tr>\n",
              "  </tbody>\n",
              "</table>\n",
              "</div>\n",
              "      <button class=\"colab-df-convert\" onclick=\"convertToInteractive('df-8817dab5-bffb-41ae-89dc-e809d84ebac7')\"\n",
              "              title=\"Convert this dataframe to an interactive table.\"\n",
              "              style=\"display:none;\">\n",
              "        \n",
              "  <svg xmlns=\"http://www.w3.org/2000/svg\" height=\"24px\"viewBox=\"0 0 24 24\"\n",
              "       width=\"24px\">\n",
              "    <path d=\"M0 0h24v24H0V0z\" fill=\"none\"/>\n",
              "    <path d=\"M18.56 5.44l.94 2.06.94-2.06 2.06-.94-2.06-.94-.94-2.06-.94 2.06-2.06.94zm-11 1L8.5 8.5l.94-2.06 2.06-.94-2.06-.94L8.5 2.5l-.94 2.06-2.06.94zm10 10l.94 2.06.94-2.06 2.06-.94-2.06-.94-.94-2.06-.94 2.06-2.06.94z\"/><path d=\"M17.41 7.96l-1.37-1.37c-.4-.4-.92-.59-1.43-.59-.52 0-1.04.2-1.43.59L10.3 9.45l-7.72 7.72c-.78.78-.78 2.05 0 2.83L4 21.41c.39.39.9.59 1.41.59.51 0 1.02-.2 1.41-.59l7.78-7.78 2.81-2.81c.8-.78.8-2.07 0-2.86zM5.41 20L4 18.59l7.72-7.72 1.47 1.35L5.41 20z\"/>\n",
              "  </svg>\n",
              "      </button>\n",
              "      \n",
              "  <style>\n",
              "    .colab-df-container {\n",
              "      display:flex;\n",
              "      flex-wrap:wrap;\n",
              "      gap: 12px;\n",
              "    }\n",
              "\n",
              "    .colab-df-convert {\n",
              "      background-color: #E8F0FE;\n",
              "      border: none;\n",
              "      border-radius: 50%;\n",
              "      cursor: pointer;\n",
              "      display: none;\n",
              "      fill: #1967D2;\n",
              "      height: 32px;\n",
              "      padding: 0 0 0 0;\n",
              "      width: 32px;\n",
              "    }\n",
              "\n",
              "    .colab-df-convert:hover {\n",
              "      background-color: #E2EBFA;\n",
              "      box-shadow: 0px 1px 2px rgba(60, 64, 67, 0.3), 0px 1px 3px 1px rgba(60, 64, 67, 0.15);\n",
              "      fill: #174EA6;\n",
              "    }\n",
              "\n",
              "    [theme=dark] .colab-df-convert {\n",
              "      background-color: #3B4455;\n",
              "      fill: #D2E3FC;\n",
              "    }\n",
              "\n",
              "    [theme=dark] .colab-df-convert:hover {\n",
              "      background-color: #434B5C;\n",
              "      box-shadow: 0px 1px 3px 1px rgba(0, 0, 0, 0.15);\n",
              "      filter: drop-shadow(0px 1px 2px rgba(0, 0, 0, 0.3));\n",
              "      fill: #FFFFFF;\n",
              "    }\n",
              "  </style>\n",
              "\n",
              "      <script>\n",
              "        const buttonEl =\n",
              "          document.querySelector('#df-8817dab5-bffb-41ae-89dc-e809d84ebac7 button.colab-df-convert');\n",
              "        buttonEl.style.display =\n",
              "          google.colab.kernel.accessAllowed ? 'block' : 'none';\n",
              "\n",
              "        async function convertToInteractive(key) {\n",
              "          const element = document.querySelector('#df-8817dab5-bffb-41ae-89dc-e809d84ebac7');\n",
              "          const dataTable =\n",
              "            await google.colab.kernel.invokeFunction('convertToInteractive',\n",
              "                                                     [key], {});\n",
              "          if (!dataTable) return;\n",
              "\n",
              "          const docLinkHtml = 'Like what you see? Visit the ' +\n",
              "            '<a target=\"_blank\" href=https://colab.research.google.com/notebooks/data_table.ipynb>data table notebook</a>'\n",
              "            + ' to learn more about interactive tables.';\n",
              "          element.innerHTML = '';\n",
              "          dataTable['output_type'] = 'display_data';\n",
              "          await google.colab.output.renderOutput(dataTable, element);\n",
              "          const docLink = document.createElement('div');\n",
              "          docLink.innerHTML = docLinkHtml;\n",
              "          element.appendChild(docLink);\n",
              "        }\n",
              "      </script>\n",
              "    </div>\n",
              "  </div>\n",
              "  "
            ]
          },
          "metadata": {},
          "execution_count": 8
        }
      ]
    },
    {
      "cell_type": "code",
      "source": [
        "dataframe['text'] = dataframe['text'].apply(str)\n",
        "text = dataframe['text']\n",
        "text.head(10)"
      ],
      "metadata": {
        "id": "zGjSIkW9LOLU",
        "colab": {
          "base_uri": "https://localhost:8080/"
        },
        "outputId": "515ca5b1-cd3e-465f-977e-eb18ff362796"
      },
      "execution_count": null,
      "outputs": [
        {
          "output_type": "execute_result",
          "data": {
            "text/plain": [
              "0    Der Kampf gegen die Steuerflucht steht 2016 im...\n",
              "1    Der Volltext dieses auf Agenturmeldungen basie...\n",
              "2    Das Experiment beginnt Freitagabend, am Wochen...\n",
              "3    \"Was waren die schlimmsten Erlebnisse, die ihr...\n",
              "4    Wien – Seitdem die Internationale Agentur für ...\n",
              "5    Peking – Die chinesische Schriftstellerin und ...\n",
              "6    Gute Nachricht für schwerkranke Herzpatienten:...\n",
              "7    Wien – Die internationale Einkaufsgemeinschaft...\n",
              "8    Wals-Siezenheim – Red Bull Salzburgs neuer Tra...\n",
              "9    London – Stuart Pearce kehrt im Alter von 53 J...\n",
              "Name: text, dtype: object"
            ]
          },
          "metadata": {},
          "execution_count": 9
        }
      ]
    },
    {
      "cell_type": "code",
      "source": [
        "category = dataframe['category']\n",
        "category.head(10)"
      ],
      "metadata": {
        "colab": {
          "base_uri": "https://localhost:8080/"
        },
        "id": "Txn7qNcuLmlA",
        "outputId": "5ddc51b8-517f-4219-99d5-1a714bbfd4c5"
      },
      "execution_count": null,
      "outputs": [
        {
          "output_type": "execute_result",
          "data": {
            "text/plain": [
              "0    Wirtschaft\n",
              "1    Wirtschaft\n",
              "2           Web\n",
              "3           Web\n",
              "4    Wirtschaft\n",
              "5        Kultur\n",
              "6    Gesundheit\n",
              "7         Sport\n",
              "8         Sport\n",
              "9         Sport\n",
              "Name: category, dtype: object"
            ]
          },
          "metadata": {},
          "execution_count": 10
        }
      ]
    },
    {
      "cell_type": "markdown",
      "source": [
        "**Vorverarbeitung der Textdaten**"
      ],
      "metadata": {
        "id": "Whb5OaPfkaUw"
      }
    },
    {
      "cell_type": "markdown",
      "source": [
        "tags in text entfernen"
      ],
      "metadata": {
        "id": "ooIvNkoQNVD-"
      }
    },
    {
      "cell_type": "code",
      "source": [
        "import re\n",
        "\n",
        "def remove_tags(text):\n",
        "  dataframe['text'] = dataframe['text'].apply(str)\n",
        "  remove = re.compile(r'')\n",
        "  return re.sub(remove, '', text)\n",
        "dataframe['text'] = dataframe['text'].apply(remove_tags)"
      ],
      "metadata": {
        "id": "mbvRjaucLwQA"
      },
      "execution_count": null,
      "outputs": []
    },
    {
      "cell_type": "markdown",
      "source": [
        "special characters entfernen"
      ],
      "metadata": {
        "id": "Yq8UsAUYNjxq"
      }
    },
    {
      "cell_type": "code",
      "source": [
        "def special_char(text):\n",
        "  reviews = ''\n",
        "  for x in text:\n",
        "    if x.isalnum():\n",
        "      reviews = reviews + x\n",
        "    else:\n",
        "      reviews = reviews + ' '\n",
        "  return reviews\n",
        "dataframe['text'] = dataframe['text'].apply(special_char)"
      ],
      "metadata": {
        "id": "62iOAFxsNdWc"
      },
      "execution_count": null,
      "outputs": []
    },
    {
      "cell_type": "markdown",
      "source": [
        "in kleinbuchstaben überführen"
      ],
      "metadata": {
        "id": "QQrrnJDcNqis"
      }
    },
    {
      "cell_type": "code",
      "source": [
        "def convert_lower(text):\n",
        "   return text.lower()\n",
        "dataframe['text'] = dataframe['text'].apply(convert_lower)\n",
        "dataframe['text'][1]"
      ],
      "metadata": {
        "colab": {
          "base_uri": "https://localhost:8080/",
          "height": 35
        },
        "id": "4rCZDqaYNss_",
        "outputId": "ac912145-cefd-4649-a48e-aaf7d9b27ca0"
      },
      "execution_count": null,
      "outputs": [
        {
          "output_type": "execute_result",
          "data": {
            "text/plain": [
              "'der volltext dieses auf agenturmeldungen basierenden artikels steht aus rechtlichen gründen nicht mehr zur verfügung '"
            ],
            "application/vnd.google.colaboratory.intrinsic+json": {
              "type": "string"
            }
          },
          "metadata": {},
          "execution_count": 13
        }
      ]
    },
    {
      "cell_type": "markdown",
      "source": [
        "stopwords entfernen (klappt für deutsche texte hier nur mäßig)"
      ],
      "metadata": {
        "id": "YnyDuXY0N0-4"
      }
    },
    {
      "cell_type": "code",
      "source": [
        "import nltk\n",
        "nltk.download('stopwords')\n",
        "from nltk.tokenize import word_tokenize\n",
        "nltk.download('punkt')\n",
        "from nltk.corpus import stopwords\n",
        "\n",
        "def remove_stopwords(text):\n",
        "  stop_words = set(stopwords.words('german'))\n",
        "  words = word_tokenize(text)\n",
        "  return [x for x in words if x not in stop_words]\n",
        "dataframe['text'] = dataframe['text'].apply(remove_stopwords)\n",
        "dataframe['text'][1]"
      ],
      "metadata": {
        "colab": {
          "base_uri": "https://localhost:8080/"
        },
        "id": "lYtpKg2UN4gc",
        "outputId": "ecede778-5038-4fd0-87b1-98b51e5ae71a"
      },
      "execution_count": null,
      "outputs": [
        {
          "output_type": "stream",
          "name": "stdout",
          "text": [
            "[nltk_data] Downloading package stopwords to /root/nltk_data...\n",
            "[nltk_data]   Package stopwords is already up-to-date!\n",
            "[nltk_data] Downloading package punkt to /root/nltk_data...\n",
            "[nltk_data]   Package punkt is already up-to-date!\n"
          ]
        },
        {
          "output_type": "execute_result",
          "data": {
            "text/plain": [
              "['volltext',\n",
              " 'agenturmeldungen',\n",
              " 'basierenden',\n",
              " 'artikels',\n",
              " 'steht',\n",
              " 'rechtlichen',\n",
              " 'gründen',\n",
              " 'mehr',\n",
              " 'verfügung']"
            ]
          },
          "metadata": {},
          "execution_count": 14
        }
      ]
    },
    {
      "cell_type": "markdown",
      "source": [
        "lemmatizing (unterschiedliche formen eines wortes werden hier zusammengefasst)"
      ],
      "metadata": {
        "id": "ZvRfm0XtO3uz"
      }
    },
    {
      "cell_type": "code",
      "source": [
        "from nltk.stem import WordNetLemmatizer\n",
        "nltk.download('wordnet')\n",
        "\n",
        "def lemmatize_word(text):\n",
        "  wordnet = WordNetLemmatizer()\n",
        "  return \" \".join([wordnet.lemmatize(word) for word in text])\n",
        "dataframe['text'] = dataframe['text'].apply(lemmatize_word)\n",
        "dataframe['text'][1]"
      ],
      "metadata": {
        "colab": {
          "base_uri": "https://localhost:8080/",
          "height": 70
        },
        "id": "24jZ4oPlO5Nm",
        "outputId": "64a4a0c6-d99f-493f-ffe6-d09f603523f0"
      },
      "execution_count": null,
      "outputs": [
        {
          "output_type": "stream",
          "name": "stdout",
          "text": [
            "[nltk_data] Downloading package wordnet to /root/nltk_data...\n",
            "[nltk_data]   Package wordnet is already up-to-date!\n"
          ]
        },
        {
          "output_type": "execute_result",
          "data": {
            "text/plain": [
              "'volltext agenturmeldungen basierenden artikels steht rechtlichen gründen mehr verfügung'"
            ],
            "application/vnd.google.colaboratory.intrinsic+json": {
              "type": "string"
            }
          },
          "metadata": {},
          "execution_count": 15
        }
      ]
    },
    {
      "cell_type": "code",
      "source": [
        "dataframe"
      ],
      "metadata": {
        "colab": {
          "base_uri": "https://localhost:8080/",
          "height": 424
        },
        "id": "5o3UlyK4PP-R",
        "outputId": "54e015f3-8bef-4a54-f0fb-934b18364a02"
      },
      "execution_count": null,
      "outputs": [
        {
          "output_type": "execute_result",
          "data": {
            "text/plain": [
              "          category                                               text  \\\n",
              "0       Wirtschaft  kampf steuerflucht steht 2016 mittelpunkt regi...   \n",
              "1       Wirtschaft  volltext agenturmeldungen basierenden artikels...   \n",
              "2              Web  experiment beginnt freitagabend wochenende bun...   \n",
              "3              Web  schlimmsten erlebnisse it mitarbeiter erlebt h...   \n",
              "4       Wirtschaft  wien seitdem internationale agentur krebsforsc...   \n",
              "...            ...                                                ...   \n",
              "5482  Wissenschaft  baikonur london frühen dienstagabend erreichte...   \n",
              "5483         Sport  rio de janeiro achtelfinal match dominic thiem...   \n",
              "5484           Web  bezahlsender sky bringt apps hochwertigen stre...   \n",
              "5485         Sport  neuchatel neuen studie auftrag europäischen fu...   \n",
              "5486    Wirtschaft  ökologie ökonomie 21 jahrhunderts wem aussage ...   \n",
              "\n",
              "      categoryId  \n",
              "0              0  \n",
              "1              0  \n",
              "2              1  \n",
              "3              1  \n",
              "4              0  \n",
              "...          ...  \n",
              "5482           5  \n",
              "5483           4  \n",
              "5484           1  \n",
              "5485           4  \n",
              "5486           0  \n",
              "\n",
              "[5487 rows x 3 columns]"
            ],
            "text/html": [
              "\n",
              "  <div id=\"df-fc3ad23a-1c16-46f3-8785-01e376ace37e\">\n",
              "    <div class=\"colab-df-container\">\n",
              "      <div>\n",
              "<style scoped>\n",
              "    .dataframe tbody tr th:only-of-type {\n",
              "        vertical-align: middle;\n",
              "    }\n",
              "\n",
              "    .dataframe tbody tr th {\n",
              "        vertical-align: top;\n",
              "    }\n",
              "\n",
              "    .dataframe thead th {\n",
              "        text-align: right;\n",
              "    }\n",
              "</style>\n",
              "<table border=\"1\" class=\"dataframe\">\n",
              "  <thead>\n",
              "    <tr style=\"text-align: right;\">\n",
              "      <th></th>\n",
              "      <th>category</th>\n",
              "      <th>text</th>\n",
              "      <th>categoryId</th>\n",
              "    </tr>\n",
              "  </thead>\n",
              "  <tbody>\n",
              "    <tr>\n",
              "      <th>0</th>\n",
              "      <td>Wirtschaft</td>\n",
              "      <td>kampf steuerflucht steht 2016 mittelpunkt regi...</td>\n",
              "      <td>0</td>\n",
              "    </tr>\n",
              "    <tr>\n",
              "      <th>1</th>\n",
              "      <td>Wirtschaft</td>\n",
              "      <td>volltext agenturmeldungen basierenden artikels...</td>\n",
              "      <td>0</td>\n",
              "    </tr>\n",
              "    <tr>\n",
              "      <th>2</th>\n",
              "      <td>Web</td>\n",
              "      <td>experiment beginnt freitagabend wochenende bun...</td>\n",
              "      <td>1</td>\n",
              "    </tr>\n",
              "    <tr>\n",
              "      <th>3</th>\n",
              "      <td>Web</td>\n",
              "      <td>schlimmsten erlebnisse it mitarbeiter erlebt h...</td>\n",
              "      <td>1</td>\n",
              "    </tr>\n",
              "    <tr>\n",
              "      <th>4</th>\n",
              "      <td>Wirtschaft</td>\n",
              "      <td>wien seitdem internationale agentur krebsforsc...</td>\n",
              "      <td>0</td>\n",
              "    </tr>\n",
              "    <tr>\n",
              "      <th>...</th>\n",
              "      <td>...</td>\n",
              "      <td>...</td>\n",
              "      <td>...</td>\n",
              "    </tr>\n",
              "    <tr>\n",
              "      <th>5482</th>\n",
              "      <td>Wissenschaft</td>\n",
              "      <td>baikonur london frühen dienstagabend erreichte...</td>\n",
              "      <td>5</td>\n",
              "    </tr>\n",
              "    <tr>\n",
              "      <th>5483</th>\n",
              "      <td>Sport</td>\n",
              "      <td>rio de janeiro achtelfinal match dominic thiem...</td>\n",
              "      <td>4</td>\n",
              "    </tr>\n",
              "    <tr>\n",
              "      <th>5484</th>\n",
              "      <td>Web</td>\n",
              "      <td>bezahlsender sky bringt apps hochwertigen stre...</td>\n",
              "      <td>1</td>\n",
              "    </tr>\n",
              "    <tr>\n",
              "      <th>5485</th>\n",
              "      <td>Sport</td>\n",
              "      <td>neuchatel neuen studie auftrag europäischen fu...</td>\n",
              "      <td>4</td>\n",
              "    </tr>\n",
              "    <tr>\n",
              "      <th>5486</th>\n",
              "      <td>Wirtschaft</td>\n",
              "      <td>ökologie ökonomie 21 jahrhunderts wem aussage ...</td>\n",
              "      <td>0</td>\n",
              "    </tr>\n",
              "  </tbody>\n",
              "</table>\n",
              "<p>5487 rows × 3 columns</p>\n",
              "</div>\n",
              "      <button class=\"colab-df-convert\" onclick=\"convertToInteractive('df-fc3ad23a-1c16-46f3-8785-01e376ace37e')\"\n",
              "              title=\"Convert this dataframe to an interactive table.\"\n",
              "              style=\"display:none;\">\n",
              "        \n",
              "  <svg xmlns=\"http://www.w3.org/2000/svg\" height=\"24px\"viewBox=\"0 0 24 24\"\n",
              "       width=\"24px\">\n",
              "    <path d=\"M0 0h24v24H0V0z\" fill=\"none\"/>\n",
              "    <path d=\"M18.56 5.44l.94 2.06.94-2.06 2.06-.94-2.06-.94-.94-2.06-.94 2.06-2.06.94zm-11 1L8.5 8.5l.94-2.06 2.06-.94-2.06-.94L8.5 2.5l-.94 2.06-2.06.94zm10 10l.94 2.06.94-2.06 2.06-.94-2.06-.94-.94-2.06-.94 2.06-2.06.94z\"/><path d=\"M17.41 7.96l-1.37-1.37c-.4-.4-.92-.59-1.43-.59-.52 0-1.04.2-1.43.59L10.3 9.45l-7.72 7.72c-.78.78-.78 2.05 0 2.83L4 21.41c.39.39.9.59 1.41.59.51 0 1.02-.2 1.41-.59l7.78-7.78 2.81-2.81c.8-.78.8-2.07 0-2.86zM5.41 20L4 18.59l7.72-7.72 1.47 1.35L5.41 20z\"/>\n",
              "  </svg>\n",
              "      </button>\n",
              "      \n",
              "  <style>\n",
              "    .colab-df-container {\n",
              "      display:flex;\n",
              "      flex-wrap:wrap;\n",
              "      gap: 12px;\n",
              "    }\n",
              "\n",
              "    .colab-df-convert {\n",
              "      background-color: #E8F0FE;\n",
              "      border: none;\n",
              "      border-radius: 50%;\n",
              "      cursor: pointer;\n",
              "      display: none;\n",
              "      fill: #1967D2;\n",
              "      height: 32px;\n",
              "      padding: 0 0 0 0;\n",
              "      width: 32px;\n",
              "    }\n",
              "\n",
              "    .colab-df-convert:hover {\n",
              "      background-color: #E2EBFA;\n",
              "      box-shadow: 0px 1px 2px rgba(60, 64, 67, 0.3), 0px 1px 3px 1px rgba(60, 64, 67, 0.15);\n",
              "      fill: #174EA6;\n",
              "    }\n",
              "\n",
              "    [theme=dark] .colab-df-convert {\n",
              "      background-color: #3B4455;\n",
              "      fill: #D2E3FC;\n",
              "    }\n",
              "\n",
              "    [theme=dark] .colab-df-convert:hover {\n",
              "      background-color: #434B5C;\n",
              "      box-shadow: 0px 1px 3px 1px rgba(0, 0, 0, 0.15);\n",
              "      filter: drop-shadow(0px 1px 2px rgba(0, 0, 0, 0.3));\n",
              "      fill: #FFFFFF;\n",
              "    }\n",
              "  </style>\n",
              "\n",
              "      <script>\n",
              "        const buttonEl =\n",
              "          document.querySelector('#df-fc3ad23a-1c16-46f3-8785-01e376ace37e button.colab-df-convert');\n",
              "        buttonEl.style.display =\n",
              "          google.colab.kernel.accessAllowed ? 'block' : 'none';\n",
              "\n",
              "        async function convertToInteractive(key) {\n",
              "          const element = document.querySelector('#df-fc3ad23a-1c16-46f3-8785-01e376ace37e');\n",
              "          const dataTable =\n",
              "            await google.colab.kernel.invokeFunction('convertToInteractive',\n",
              "                                                     [key], {});\n",
              "          if (!dataTable) return;\n",
              "\n",
              "          const docLinkHtml = 'Like what you see? Visit the ' +\n",
              "            '<a target=\"_blank\" href=https://colab.research.google.com/notebooks/data_table.ipynb>data table notebook</a>'\n",
              "            + ' to learn more about interactive tables.';\n",
              "          element.innerHTML = '';\n",
              "          dataTable['output_type'] = 'display_data';\n",
              "          await google.colab.output.renderOutput(dataTable, element);\n",
              "          const docLink = document.createElement('div');\n",
              "          docLink.innerHTML = docLinkHtml;\n",
              "          element.appendChild(docLink);\n",
              "        }\n",
              "      </script>\n",
              "    </div>\n",
              "  </div>\n",
              "  "
            ]
          },
          "metadata": {},
          "execution_count": 16
        }
      ]
    },
    {
      "cell_type": "markdown",
      "source": [
        "**Modelltraining und Test**"
      ],
      "metadata": {
        "id": "Tcv9jn4EnJhK"
      }
    },
    {
      "cell_type": "markdown",
      "source": [
        "definition daten und label"
      ],
      "metadata": {
        "id": "l1e_jiJHPZv_"
      }
    },
    {
      "cell_type": "code",
      "source": [
        "x = dataframe['text']\n",
        "y = dataframe['categoryId']"
      ],
      "metadata": {
        "id": "edDvkEepPdXs"
      },
      "execution_count": null,
      "outputs": []
    },
    {
      "cell_type": "markdown",
      "source": [
        "bag of words model (wörter werden hier in einen vektor überführt, um mit ihnen besser arbeiten zu können)"
      ],
      "metadata": {
        "id": "WtHV88fgPqmJ"
      }
    },
    {
      "cell_type": "code",
      "source": [
        "from sklearn.feature_extraction.text import CountVectorizer\n",
        "import numpy as np\n",
        "\n",
        "x = np.array(dataframe.iloc[:,0].values)\n",
        "y = np.array(dataframe.categoryId.values)\n",
        "cv = CountVectorizer(max_features = 5000)\n",
        "x = cv.fit_transform(dataframe.text).toarray()\n",
        "print(\"X.shape = \",x.shape)\n",
        "print(\"y.shape = \",y.shape)"
      ],
      "metadata": {
        "colab": {
          "base_uri": "https://localhost:8080/"
        },
        "id": "c7DGLmL7PsTq",
        "outputId": "ea047736-2e43-41a6-905f-48c22197aa2c"
      },
      "execution_count": null,
      "outputs": [
        {
          "output_type": "stream",
          "name": "stdout",
          "text": [
            "X.shape =  (5487, 5000)\n",
            "y.shape =  (5487,)\n"
          ]
        }
      ]
    },
    {
      "cell_type": "markdown",
      "source": [
        "daten werden in trainings und test daten aufgeteilt"
      ],
      "metadata": {
        "id": "YYC4TQPOQD7Z"
      }
    },
    {
      "cell_type": "code",
      "source": [
        "from sklearn.model_selection import train_test_split\n",
        "\n",
        "x_train, x_test, y_train, y_test = train_test_split(x, y, test_size = 0.3, random_state = 0, shuffle = True)\n",
        "print(len(x_train))\n",
        "print(len(x_test))"
      ],
      "metadata": {
        "colab": {
          "base_uri": "https://localhost:8080/"
        },
        "id": "SoMfhIlKQFoI",
        "outputId": "09a01ea7-6f53-41b3-dfdb-84450050d72a"
      },
      "execution_count": null,
      "outputs": [
        {
          "output_type": "stream",
          "name": "stdout",
          "text": [
            "3840\n",
            "1647\n"
          ]
        }
      ]
    },
    {
      "cell_type": "markdown",
      "source": [
        "mehrere modelle testen, die sklearn im bereich classification zu bieten hat."
      ],
      "metadata": {
        "id": "WPaKK_MVQTXL"
      }
    },
    {
      "cell_type": "code",
      "source": [
        "perform_list = [ ]"
      ],
      "metadata": {
        "id": "6_Wec0joQfZg"
      },
      "execution_count": null,
      "outputs": []
    },
    {
      "cell_type": "code",
      "source": [
        "from sklearn.metrics import accuracy_score\n",
        "\n",
        "def run_model(model_name, est_c, est_pnlty):\n",
        "\n",
        "  mdl=''\n",
        "\n",
        "\n",
        "  if model_name == 'Random Forest':\n",
        "\n",
        "    mdl = RandomForestClassifier(n_estimators=100 ,criterion='entropy' , random_state=0)\n",
        "\n",
        "  elif model_name == 'Multinomial Naive Bayes':\n",
        "\n",
        "    mdl = MultinomialNB(alpha=1.0,fit_prior=True)\n",
        "\n",
        "  elif model_name == 'Decision Tree Classifier':\n",
        "\n",
        "    mdl = DecisionTreeClassifier()\n",
        "\n",
        "  elif model_name == 'Gaussian Naive Bayes':\n",
        "\n",
        "    mdl = GaussianNB()\n",
        "\n",
        "  oneVsRest = OneVsRestClassifier(mdl)\n",
        "\n",
        "  oneVsRest.fit(x_train, y_train)\n",
        "\n",
        "  y_pred = oneVsRest.predict(x_test)\n",
        "\n",
        "# performance metriken\n",
        "\n",
        "  accuracy = round(accuracy_score(y_test, y_pred) * 100, 2)\n",
        "\n",
        "# precision, recall, f1\n",
        "\n",
        "  precision, recall, f1score, support = score(y_test, y_pred, average='micro')\n",
        "\n",
        "  print(f'Test Accuracy Score of Basic {model_name}: % {accuracy}')\n",
        "\n",
        "  print(f'Precision : {precision}')\n",
        "\n",
        "  print(f'Recall : {recall}')\n",
        "\n",
        "  print(f'F1-score : {f1score}')\n",
        "\n",
        "#performance parameter zu liste hinzufügen\n",
        "\n",
        "  perform_list.append(dict([\n",
        "\n",
        "  ('Model', model_name),\n",
        "\n",
        "  ('Test Accuracy', round(accuracy, 2)),\n",
        "\n",
        "  ('Precision', round(precision, 2)),\n",
        "\n",
        "  ('Recall', round(recall, 2)),\n",
        "\n",
        "  ('F1', round(f1score, 2))\n",
        "\n",
        "]))"
      ],
      "metadata": {
        "id": "7xKq02D-QjCa"
      },
      "execution_count": null,
      "outputs": []
    },
    {
      "cell_type": "code",
      "source": [
        "from sklearn.multiclass import OneVsRestClassifier\n",
        "from sklearn.linear_model import LogisticRegression\n",
        "from sklearn.svm import SVC, LinearSVC\n",
        "from sklearn.tree import DecisionTreeClassifier\n",
        "from sklearn.ensemble import RandomForestClassifier\n",
        "from sklearn.neighbors import KNeighborsClassifier\n",
        "from sklearn.naive_bayes import GaussianNB,MultinomialNB,BernoulliNB\n",
        "from sklearn.metrics import accuracy_score\n",
        "from sklearn.metrics import confusion_matrix\n",
        "from sklearn.metrics import classification_report\n",
        "from sklearn.metrics import make_scorer, roc_curve, roc_auc_score\n",
        "from sklearn.metrics import precision_recall_fscore_support as score\n",
        "\n",
        "run_model('Gaussian Naive Bayes', est_c=None, est_pnlty=None)"
      ],
      "metadata": {
        "colab": {
          "base_uri": "https://localhost:8080/"
        },
        "id": "eiHAMcZGRveR",
        "outputId": "0482bd9c-bb9d-4b0b-a0ef-c93eb433ff80"
      },
      "execution_count": null,
      "outputs": [
        {
          "output_type": "stream",
          "name": "stdout",
          "text": [
            "Test Accuracy Score of Basic Gaussian Naive Bayes: % 70.86\n",
            "Precision : 0.7085610200364298\n",
            "Recall : 0.7085610200364298\n",
            "F1-score : 0.7085610200364298\n"
          ]
        }
      ]
    },
    {
      "cell_type": "code",
      "source": [
        "run_model('Random Forest', est_c=None, est_pnlty=None)"
      ],
      "metadata": {
        "colab": {
          "base_uri": "https://localhost:8080/"
        },
        "id": "MhD94OMJSqk9",
        "outputId": "2c539cd0-d45e-4c67-8ebc-0d7e908b7773"
      },
      "execution_count": null,
      "outputs": [
        {
          "output_type": "stream",
          "name": "stdout",
          "text": [
            "Test Accuracy Score of Basic Random Forest: % 90.53\n",
            "Precision : 0.9052823315118397\n",
            "Recall : 0.9052823315118397\n",
            "F1-score : 0.9052823315118397\n"
          ]
        }
      ]
    },
    {
      "cell_type": "code",
      "source": [
        "run_model('Multinomial Naive Bayes', est_c=None, est_pnlty=None)"
      ],
      "metadata": {
        "colab": {
          "base_uri": "https://localhost:8080/"
        },
        "id": "T0R7FJYSSqZ-",
        "outputId": "97369fe5-d42f-4f3c-f701-e90a38d8028b"
      },
      "execution_count": null,
      "outputs": [
        {
          "output_type": "stream",
          "name": "stdout",
          "text": [
            "Test Accuracy Score of Basic Multinomial Naive Bayes: % 89.13\n",
            "Precision : 0.891317547055252\n",
            "Recall : 0.891317547055252\n",
            "F1-score : 0.891317547055252\n"
          ]
        }
      ]
    },
    {
      "cell_type": "code",
      "source": [
        "run_model('Decision Tree Classifier', est_c=None, est_pnlty=None)"
      ],
      "metadata": {
        "colab": {
          "base_uri": "https://localhost:8080/"
        },
        "id": "8DckXe3VSqFj",
        "outputId": "295645d5-c0aa-4b02-8480-07109ee1efbc"
      },
      "execution_count": null,
      "outputs": [
        {
          "output_type": "stream",
          "name": "stdout",
          "text": [
            "Test Accuracy Score of Basic Decision Tree Classifier: % 73.83\n",
            "Precision : 0.7383120825743776\n",
            "Recall : 0.7383120825743776\n",
            "F1-score : 0.7383120825743777\n"
          ]
        }
      ]
    },
    {
      "cell_type": "markdown",
      "source": [
        "**Erzielte Modellergebnisse**"
      ],
      "metadata": {
        "id": "7eZgRnfWnQ6V"
      }
    },
    {
      "cell_type": "markdown",
      "source": [
        "dataframe mit performance der einzelnen modelle"
      ],
      "metadata": {
        "id": "ZqwjLeUbSgsu"
      }
    },
    {
      "cell_type": "code",
      "source": [
        "model_performance = pd.DataFrame(data=perform_list)\n",
        "model_performance = model_performance[['Model', 'Test Accuracy', 'Precision', 'Recall', 'F1']]\n",
        "model_performance"
      ],
      "metadata": {
        "colab": {
          "base_uri": "https://localhost:8080/",
          "height": 175
        },
        "id": "JgSWW0T6SkSd",
        "outputId": "d913cb87-1603-4367-f399-c3caf7672245"
      },
      "execution_count": null,
      "outputs": [
        {
          "output_type": "execute_result",
          "data": {
            "text/plain": [
              "                      Model  Test Accuracy  Precision  Recall    F1\n",
              "0      Gaussian Naive Bayes          70.86       0.71    0.71  0.71\n",
              "1             Random Forest          90.53       0.91    0.91  0.91\n",
              "2   Multinomial Naive Bayes          89.13       0.89    0.89  0.89\n",
              "3  Decision Tree Classifier          73.83       0.74    0.74  0.74"
            ],
            "text/html": [
              "\n",
              "  <div id=\"df-17e4968c-b98d-470e-93cb-f03d0a445fc8\">\n",
              "    <div class=\"colab-df-container\">\n",
              "      <div>\n",
              "<style scoped>\n",
              "    .dataframe tbody tr th:only-of-type {\n",
              "        vertical-align: middle;\n",
              "    }\n",
              "\n",
              "    .dataframe tbody tr th {\n",
              "        vertical-align: top;\n",
              "    }\n",
              "\n",
              "    .dataframe thead th {\n",
              "        text-align: right;\n",
              "    }\n",
              "</style>\n",
              "<table border=\"1\" class=\"dataframe\">\n",
              "  <thead>\n",
              "    <tr style=\"text-align: right;\">\n",
              "      <th></th>\n",
              "      <th>Model</th>\n",
              "      <th>Test Accuracy</th>\n",
              "      <th>Precision</th>\n",
              "      <th>Recall</th>\n",
              "      <th>F1</th>\n",
              "    </tr>\n",
              "  </thead>\n",
              "  <tbody>\n",
              "    <tr>\n",
              "      <th>0</th>\n",
              "      <td>Gaussian Naive Bayes</td>\n",
              "      <td>70.86</td>\n",
              "      <td>0.71</td>\n",
              "      <td>0.71</td>\n",
              "      <td>0.71</td>\n",
              "    </tr>\n",
              "    <tr>\n",
              "      <th>1</th>\n",
              "      <td>Random Forest</td>\n",
              "      <td>90.53</td>\n",
              "      <td>0.91</td>\n",
              "      <td>0.91</td>\n",
              "      <td>0.91</td>\n",
              "    </tr>\n",
              "    <tr>\n",
              "      <th>2</th>\n",
              "      <td>Multinomial Naive Bayes</td>\n",
              "      <td>89.13</td>\n",
              "      <td>0.89</td>\n",
              "      <td>0.89</td>\n",
              "      <td>0.89</td>\n",
              "    </tr>\n",
              "    <tr>\n",
              "      <th>3</th>\n",
              "      <td>Decision Tree Classifier</td>\n",
              "      <td>73.83</td>\n",
              "      <td>0.74</td>\n",
              "      <td>0.74</td>\n",
              "      <td>0.74</td>\n",
              "    </tr>\n",
              "  </tbody>\n",
              "</table>\n",
              "</div>\n",
              "      <button class=\"colab-df-convert\" onclick=\"convertToInteractive('df-17e4968c-b98d-470e-93cb-f03d0a445fc8')\"\n",
              "              title=\"Convert this dataframe to an interactive table.\"\n",
              "              style=\"display:none;\">\n",
              "        \n",
              "  <svg xmlns=\"http://www.w3.org/2000/svg\" height=\"24px\"viewBox=\"0 0 24 24\"\n",
              "       width=\"24px\">\n",
              "    <path d=\"M0 0h24v24H0V0z\" fill=\"none\"/>\n",
              "    <path d=\"M18.56 5.44l.94 2.06.94-2.06 2.06-.94-2.06-.94-.94-2.06-.94 2.06-2.06.94zm-11 1L8.5 8.5l.94-2.06 2.06-.94-2.06-.94L8.5 2.5l-.94 2.06-2.06.94zm10 10l.94 2.06.94-2.06 2.06-.94-2.06-.94-.94-2.06-.94 2.06-2.06.94z\"/><path d=\"M17.41 7.96l-1.37-1.37c-.4-.4-.92-.59-1.43-.59-.52 0-1.04.2-1.43.59L10.3 9.45l-7.72 7.72c-.78.78-.78 2.05 0 2.83L4 21.41c.39.39.9.59 1.41.59.51 0 1.02-.2 1.41-.59l7.78-7.78 2.81-2.81c.8-.78.8-2.07 0-2.86zM5.41 20L4 18.59l7.72-7.72 1.47 1.35L5.41 20z\"/>\n",
              "  </svg>\n",
              "      </button>\n",
              "      \n",
              "  <style>\n",
              "    .colab-df-container {\n",
              "      display:flex;\n",
              "      flex-wrap:wrap;\n",
              "      gap: 12px;\n",
              "    }\n",
              "\n",
              "    .colab-df-convert {\n",
              "      background-color: #E8F0FE;\n",
              "      border: none;\n",
              "      border-radius: 50%;\n",
              "      cursor: pointer;\n",
              "      display: none;\n",
              "      fill: #1967D2;\n",
              "      height: 32px;\n",
              "      padding: 0 0 0 0;\n",
              "      width: 32px;\n",
              "    }\n",
              "\n",
              "    .colab-df-convert:hover {\n",
              "      background-color: #E2EBFA;\n",
              "      box-shadow: 0px 1px 2px rgba(60, 64, 67, 0.3), 0px 1px 3px 1px rgba(60, 64, 67, 0.15);\n",
              "      fill: #174EA6;\n",
              "    }\n",
              "\n",
              "    [theme=dark] .colab-df-convert {\n",
              "      background-color: #3B4455;\n",
              "      fill: #D2E3FC;\n",
              "    }\n",
              "\n",
              "    [theme=dark] .colab-df-convert:hover {\n",
              "      background-color: #434B5C;\n",
              "      box-shadow: 0px 1px 3px 1px rgba(0, 0, 0, 0.15);\n",
              "      filter: drop-shadow(0px 1px 2px rgba(0, 0, 0, 0.3));\n",
              "      fill: #FFFFFF;\n",
              "    }\n",
              "  </style>\n",
              "\n",
              "      <script>\n",
              "        const buttonEl =\n",
              "          document.querySelector('#df-17e4968c-b98d-470e-93cb-f03d0a445fc8 button.colab-df-convert');\n",
              "        buttonEl.style.display =\n",
              "          google.colab.kernel.accessAllowed ? 'block' : 'none';\n",
              "\n",
              "        async function convertToInteractive(key) {\n",
              "          const element = document.querySelector('#df-17e4968c-b98d-470e-93cb-f03d0a445fc8');\n",
              "          const dataTable =\n",
              "            await google.colab.kernel.invokeFunction('convertToInteractive',\n",
              "                                                     [key], {});\n",
              "          if (!dataTable) return;\n",
              "\n",
              "          const docLinkHtml = 'Like what you see? Visit the ' +\n",
              "            '<a target=\"_blank\" href=https://colab.research.google.com/notebooks/data_table.ipynb>data table notebook</a>'\n",
              "            + ' to learn more about interactive tables.';\n",
              "          element.innerHTML = '';\n",
              "          dataTable['output_type'] = 'display_data';\n",
              "          await google.colab.output.renderOutput(dataTable, element);\n",
              "          const docLink = document.createElement('div');\n",
              "          docLink.innerHTML = docLinkHtml;\n",
              "          element.appendChild(docLink);\n",
              "        }\n",
              "      </script>\n",
              "    </div>\n",
              "  </div>\n",
              "  "
            ]
          },
          "metadata": {},
          "execution_count": 26
        }
      ]
    },
    {
      "cell_type": "markdown",
      "source": [
        "best perfomendes modell ist der random forest. dieses model wird nun für eine beispielhafte klassifikation genutzt"
      ],
      "metadata": {
        "id": "7kiW5fdOfrhS"
      }
    },
    {
      "cell_type": "code",
      "source": [
        "classifier = RandomForestClassifier(n_estimators=100 ,criterion='entropy' , random_state=0).fit(x_train, y_train)\n",
        "classifier\n",
        "y_pred = classifier.predict(x_test)"
      ],
      "metadata": {
        "id": "SsBJYCe3f3uW"
      },
      "execution_count": null,
      "outputs": []
    },
    {
      "cell_type": "markdown",
      "source": [
        "**Exemplarische Klassifikation**"
      ],
      "metadata": {
        "id": "IJb_NodfnUyz"
      }
    },
    {
      "cell_type": "markdown",
      "source": [
        "als beispiel dient der erste eintrag in der news.csv. erwartete ausgabe ist kategorie wirtschaft"
      ],
      "metadata": {
        "id": "GgM5-nE1lbV2"
      }
    },
    {
      "cell_type": "code",
      "source": [
        "y_pred1 = cv.transform([\"Der Kampf gegen die Steuerflucht steht 2016 im Mittelpunkt der Regierungspolitik. Dies versprach Italiens Staatspräsident Sergio Mattarella bei seiner Neujahrsansprache. Und begründete das Vorhaben damit, dass 2015 dem Fiskus 122 Milliarden Euro an Steuereinnahmen verlorengingen. Das entspricht 7,5 Prozent des Bruttoinlandprodukts (BIP). Könnte man die Steuerflucht halbieren, würden 300.000 Arbeitsplätze mehr geschaffen werden. Italien werde 2016 nicht nur die Steuerevasion und die Korruption effizient bekämpfen, sondern auch neue ArbeitsplÃ¤tze schaffen, ergÃ¤nzte Regierungschef Matteo Renzi die Präsidentenansprache. Der Kampf gegen die Steuerevasion wurde bereits im Vorjahr eingeleitet. Nicht nur dass der Fiskus durch die zu Jahresbeginn 2015 von der Regierung Renzi eingeführte Selbstanzeige all jener, die ihr Kapital ins Ausland transferierten und damit dem Fiskus ein Schnippchen schlugen, vier Milliarden Euro einnahm. Die Steuerhinterziehung betrifft vorrangig Freiberufler, Handwerker, Geschäftsinhaber, Kleinunternehmer und multinationale Konzerne. Die italienischen Behörden haben bereits 2015 damit begonnen, verschiedenste Daten abzugleichen. Wie etwa Steuererklärungen und eingetragene Vermögenswerte, wie zum Beispiel Schiffe. 2016 sollen diese Kontrollen weitergehen. Auch hat die Mailänder Staatsanwaltschaft den multinationalen Hightech-Konzern Apple beschuldigt, rund eine Milliarde Euro Steuern hinterzogen zu haben. Wie in Europa üblich, behauptet Apple, seine Umsätze für das Geschäft in Italien über eine Tochter in Irland abgewickelt zu haben. Laut Ermittlungen der Mailänder Staatsanwaltschaft bei Apple-Händlern ergab sich aber, dass in Wahrheit Apple Italia für die Geschäfte und die Abwicklung verantwortlich war. Der Finanzbehörde zufolge hat Apple Italia in der Berichtszeit einen Umsatz von 9,6 Milliarden Euro verzeichnet, wovon 3,9 Milliarden Euro auf Italien entfielen. Apple konnte sich in Italien bei Telekomprodukten einen Marktanteil von über zehn Prozent sichern. Bis 2013 wurden die iPhones nur von Mobilfunkbetreibern wie Telecom Italia, Vodafone oder H3G verkauft. Die Wachstumssteigerung bei Apple Italia am Heimmarkt geht vorrangig auf den iPhone-Bereich zurück. Apple Italia hatte sich zunächst geweigert, die Steuerschuld zu begleichen. Nun kam es zwischen Apple Italia und der Finanzbehörde zum Vergleich: Apple stimmte zu, 318 Millionen Euro an Steuerschulden zu zahlen. Dies ist zwar weniger als die Hälfte des veranschlagten Betrags. Doch die Finanzbehörde wollte einen Präzedenzfall setzen, der nicht nur  in Italien Schule machen soll. Übrigens müssen sich drei Apple-Manager vor Gericht wegen Steuerbetrugs verantworten. Gegenwärtig laufen in Italien auch Ermittlungen gegen Google und Amazon wegen angeblicher Steuerhinterziehungen. Dem Vernehmen nach habe sich Google ebenfalls zum Vergleich von 150 Millionen Euro bereiterklärt, während bei Amazon noch verhandelt werde. (Thesy Kness-Bastaroli aus Mailand, 4.1.2016)\"])\n",
        "yy = classifier.predict(y_pred1)\n",
        "result = \"\"\n",
        "if yy == [0]:\n",
        "  result = \"Wirtschaft\"\n",
        "elif yy == [1]:\n",
        "  result = \"Web\"\n",
        "elif yy == [2]:\n",
        "  result = \"Kultur\"\n",
        "elif yy == [3]:\n",
        "  result = \"Gesundheit\"\n",
        "elif yy == [4]:\n",
        "  result = \"Sport\"\n",
        "elif yy == [5]:\n",
        "  result = \"Wissenschaft\"\n",
        "print(result)"
      ],
      "metadata": {
        "colab": {
          "base_uri": "https://localhost:8080/"
        },
        "id": "nMS0jmiTgBtn",
        "outputId": "2a80c494-fc6e-40ef-cfe6-f444e7a5d280"
      },
      "execution_count": null,
      "outputs": [
        {
          "output_type": "stream",
          "name": "stdout",
          "text": [
            "Wirtschaft\n"
          ]
        }
      ]
    }
  ]
}